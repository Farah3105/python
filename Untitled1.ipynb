{
  "nbformat": 4,
  "nbformat_minor": 0,
  "metadata": {
    "colab": {
      "provenance": []
    },
    "kernelspec": {
      "name": "python3",
      "display_name": "Python 3"
    },
    "language_info": {
      "name": "python"
    }
  },
  "cells": [
    {
      "cell_type": "code",
      "execution_count": null,
      "metadata": {
        "colab": {
          "base_uri": "https://localhost:8080/"
        },
        "id": "wMTRwo48QBGA",
        "outputId": "0f15ee53-156d-4a9e-a3c5-880d91dd3ae8"
      },
      "outputs": [
        {
          "output_type": "stream",
          "name": "stdout",
          "text": [
            "{33, 66, 22, 55, 11, 44}\n"
          ]
        }
      ],
      "source": [
        "#union\n",
        "setA={11,22,33}\n",
        "setB={44,55,66}\n",
        "c=setA.union(setB)\n",
        "print(c)\n"
      ]
    },
    {
      "cell_type": "code",
      "source": [
        "#difference method\n",
        "setA={11,22,33}\n",
        "setB={44,55,66}\n",
        "C= setA.difference(setB)\n",
        "print(C)\n"
      ],
      "metadata": {
        "colab": {
          "base_uri": "https://localhost:8080/"
        },
        "id": "H2sLt-aIRpnB",
        "outputId": "a149d376-7990-4f38-abf2-602908b9b81f"
      },
      "execution_count": null,
      "outputs": [
        {
          "output_type": "stream",
          "name": "stdout",
          "text": [
            "{33, 11, 22}\n"
          ]
        }
      ]
    },
    {
      "cell_type": "code",
      "source": [
        "difference=setA-setB\n",
        "print(difference)"
      ],
      "metadata": {
        "colab": {
          "base_uri": "https://localhost:8080/"
        },
        "id": "ldCqdoUpwIJt",
        "outputId": "b8ca3ff5-9ad6-47c7-fbf7-fc9c6dd0a476"
      },
      "execution_count": null,
      "outputs": [
        {
          "output_type": "stream",
          "name": "stdout",
          "text": [
            "{33, 11, 22}\n"
          ]
        }
      ]
    },
    {
      "cell_type": "code",
      "source": [
        "#intersection\n",
        "setA={11,22,33,44,66}\n",
        "setB={44,55,66,77}\n",
        "intersection_operator= setA & setB\n",
        "print (\"Intersection using & operator:\", intersection_operator)"
      ],
      "metadata": {
        "colab": {
          "base_uri": "https://localhost:8080/"
        },
        "id": "cHv9_bBKT0g0",
        "outputId": "14b1e30d-64a8-42ec-9ad7-7249dd997f21"
      },
      "execution_count": null,
      "outputs": [
        {
          "output_type": "stream",
          "name": "stdout",
          "text": [
            "Intersection using & operator: {66, 44}\n"
          ]
        }
      ]
    },
    {
      "cell_type": "code",
      "source": [
        "setA={11,22,33,44,66}\n",
        "setB={44,55,66,77}\n",
        "intersection_operator= setA.intersection(setB)\n",
        "print (\"Intersection using & operator:\", intersection_operator)"
      ],
      "metadata": {
        "colab": {
          "base_uri": "https://localhost:8080/"
        },
        "id": "XNwzlY_5U31B",
        "outputId": "bd19aa88-039a-43c3-88c0-93b3f040423e"
      },
      "execution_count": null,
      "outputs": [
        {
          "output_type": "stream",
          "name": "stdout",
          "text": [
            "Intersection using & operator: {66, 44}\n"
          ]
        }
      ]
    },
    {
      "cell_type": "code",
      "source": [
        "#clear\n",
        "setA.clear()\n",
        "print(setA)"
      ],
      "metadata": {
        "colab": {
          "base_uri": "https://localhost:8080/"
        },
        "id": "e6vxMJ2KVEZq",
        "outputId": "bb395d2b-35a0-44d0-c293-8d8a497d9779"
      },
      "execution_count": null,
      "outputs": [
        {
          "output_type": "stream",
          "name": "stdout",
          "text": [
            "set()\n"
          ]
        }
      ]
    },
    {
      "cell_type": "code",
      "source": [
        "#delete\n",
        "del setA\n",
        "print(setA)"
      ],
      "metadata": {
        "colab": {
          "base_uri": "https://localhost:8080/",
          "height": 176
        },
        "id": "CpYcf81jVaKW",
        "outputId": "0b98b467-efe4-4a74-c267-1eafe297a332"
      },
      "execution_count": null,
      "outputs": [
        {
          "output_type": "error",
          "ename": "NameError",
          "evalue": "name 'setA' is not defined",
          "traceback": [
            "\u001b[0;31m---------------------------------------------------------------------------\u001b[0m",
            "\u001b[0;31mNameError\u001b[0m                                 Traceback (most recent call last)",
            "\u001b[0;32m<ipython-input-7-3922e2a2abba>\u001b[0m in \u001b[0;36m<cell line: 3>\u001b[0;34m()\u001b[0m\n\u001b[1;32m      1\u001b[0m \u001b[0;31m#delete\u001b[0m\u001b[0;34m\u001b[0m\u001b[0;34m\u001b[0m\u001b[0m\n\u001b[1;32m      2\u001b[0m \u001b[0;32mdel\u001b[0m \u001b[0msetA\u001b[0m\u001b[0;34m\u001b[0m\u001b[0;34m\u001b[0m\u001b[0m\n\u001b[0;32m----> 3\u001b[0;31m \u001b[0mprint\u001b[0m\u001b[0;34m(\u001b[0m\u001b[0msetA\u001b[0m\u001b[0;34m)\u001b[0m\u001b[0;34m\u001b[0m\u001b[0;34m\u001b[0m\u001b[0m\n\u001b[0m",
            "\u001b[0;31mNameError\u001b[0m: name 'setA' is not defined"
          ]
        }
      ]
    },
    {
      "cell_type": "code",
      "source": [
        "#Remove/Discard\n",
        "fruits= { \"Apple\",\"banana\",\"Guava\"}\n",
        "veg= {\"onion\",\"carrot\",\"cabbage\"}\n",
        "\n",
        "veg.remove(\"tomato\")\n",
        "print (veg)\n"
      ],
      "metadata": {
        "colab": {
          "base_uri": "https://localhost:8080/",
          "height": 193
        },
        "id": "Bq5NWHMhWv4U",
        "outputId": "dead73d5-844c-44d2-cee5-f1363886296e"
      },
      "execution_count": null,
      "outputs": [
        {
          "output_type": "error",
          "ename": "KeyError",
          "evalue": "'tomato'",
          "traceback": [
            "\u001b[0;31m---------------------------------------------------------------------------\u001b[0m",
            "\u001b[0;31mKeyError\u001b[0m                                  Traceback (most recent call last)",
            "\u001b[0;32m<ipython-input-8-9cd80c276e39>\u001b[0m in \u001b[0;36m<cell line: 5>\u001b[0;34m()\u001b[0m\n\u001b[1;32m      3\u001b[0m \u001b[0mveg\u001b[0m\u001b[0;34m=\u001b[0m \u001b[0;34m{\u001b[0m\u001b[0;34m\"onion\"\u001b[0m\u001b[0;34m,\u001b[0m\u001b[0;34m\"carrot\"\u001b[0m\u001b[0;34m,\u001b[0m\u001b[0;34m\"cabbage\"\u001b[0m\u001b[0;34m}\u001b[0m\u001b[0;34m\u001b[0m\u001b[0;34m\u001b[0m\u001b[0m\n\u001b[1;32m      4\u001b[0m \u001b[0;34m\u001b[0m\u001b[0m\n\u001b[0;32m----> 5\u001b[0;31m \u001b[0mveg\u001b[0m\u001b[0;34m.\u001b[0m\u001b[0mremove\u001b[0m\u001b[0;34m(\u001b[0m\u001b[0;34m\"tomato\"\u001b[0m\u001b[0;34m)\u001b[0m\u001b[0;34m\u001b[0m\u001b[0;34m\u001b[0m\u001b[0m\n\u001b[0m\u001b[1;32m      6\u001b[0m \u001b[0mprint\u001b[0m \u001b[0;34m(\u001b[0m\u001b[0mveg\u001b[0m\u001b[0;34m)\u001b[0m\u001b[0;34m\u001b[0m\u001b[0;34m\u001b[0m\u001b[0m\n",
            "\u001b[0;31mKeyError\u001b[0m: 'tomato'"
          ]
        }
      ]
    },
    {
      "cell_type": "code",
      "source": [
        "#discard\n",
        "veg.discard(\"tomato\")\n",
        "print(veg)"
      ],
      "metadata": {
        "colab": {
          "base_uri": "https://localhost:8080/"
        },
        "id": "JDHW2OLhYMgs",
        "outputId": "21e0d608-0eab-42b1-f39b-6df77a9f1bb0"
      },
      "execution_count": null,
      "outputs": [
        {
          "output_type": "stream",
          "name": "stdout",
          "text": [
            "{'carrot', 'cabbage', 'onion'}\n"
          ]
        }
      ]
    },
    {
      "cell_type": "code",
      "source": [
        "#union set\n",
        "fruits= { \"Apple\",\"banana\",\"Guava\"}\n",
        "veg= {\"onion\",\"carrot\",\"cabbage\"}\n",
        "\n",
        "grcry= fruits.union(veg)\n",
        "print (grcry)"
      ],
      "metadata": {
        "colab": {
          "base_uri": "https://localhost:8080/"
        },
        "id": "4p0T4CsGYoiA",
        "outputId": "9be8cba6-37df-4c70-f133-18bda9039f38"
      },
      "execution_count": null,
      "outputs": [
        {
          "output_type": "stream",
          "name": "stdout",
          "text": [
            "{'onion', 'banana', 'carrot', 'Guava', 'cabbage', 'Apple'}\n"
          ]
        }
      ]
    },
    {
      "cell_type": "code",
      "source": [
        "# dictionary\n",
        "oxford={\"no way\":\"kaliya\",\"coming\":\"bainta\",\"leaving\":\"fonde\"}\n",
        "print(oxford)"
      ],
      "metadata": {
        "colab": {
          "base_uri": "https://localhost:8080/"
        },
        "id": "a94f5hDUZ5z6",
        "outputId": "94c79623-2e73-4fa2-a6b9-5262c81f813d"
      },
      "execution_count": null,
      "outputs": [
        {
          "output_type": "stream",
          "name": "stdout",
          "text": [
            "{'no way': 'kaliya', 'coming': 'bainta', 'leaving': 'fonde'}\n"
          ]
        }
      ]
    },
    {
      "cell_type": "code",
      "source": [
        "#to access particular value\n",
        "a=oxford[\"coming\"]\n",
        "print (a)"
      ],
      "metadata": {
        "colab": {
          "base_uri": "https://localhost:8080/"
        },
        "id": "pgToMq7nbkWP",
        "outputId": "926e0f04-9912-4391-d04b-7a9754656cde"
      },
      "execution_count": null,
      "outputs": [
        {
          "output_type": "stream",
          "name": "stdout",
          "text": [
            "bainta\n"
          ]
        }
      ]
    },
    {
      "cell_type": "code",
      "source": [
        "#get method\n",
        "a=oxford.get (\"leaving\")\n",
        "print(a)"
      ],
      "metadata": {
        "colab": {
          "base_uri": "https://localhost:8080/"
        },
        "id": "Ta6CWia3cOOC",
        "outputId": "caff700a-2250-4a7b-fab4-f5d2b8739c5d"
      },
      "execution_count": null,
      "outputs": [
        {
          "output_type": "stream",
          "name": "stdout",
          "text": [
            "fonde\n"
          ]
        }
      ]
    },
    {
      "cell_type": "code",
      "source": [
        "#to change value(to replace existing value)\n",
        "oxford[\"no way\"]=\"kalibela\"\n",
        "print(oxford)"
      ],
      "metadata": {
        "colab": {
          "base_uri": "https://localhost:8080/"
        },
        "id": "WgKZoMkmcjvh",
        "outputId": "d3b689a7-36bb-4ae4-f2ce-370bb5b8aee7"
      },
      "execution_count": null,
      "outputs": [
        {
          "output_type": "stream",
          "name": "stdout",
          "text": [
            "{'no way': 'kalibela', 'coming': 'bainta', 'leaving': 'fonde'}\n"
          ]
        }
      ]
    },
    {
      "cell_type": "code",
      "source": [
        "#to add new value (to add new key and value)\n",
        "oxford[\"sleeping\"]=\"ranginda\"\n",
        "print(oxford)"
      ],
      "metadata": {
        "colab": {
          "base_uri": "https://localhost:8080/"
        },
        "id": "azdbcx73dlk9",
        "outputId": "e2f369f1-6d28-4007-d504-45f11e64b146"
      },
      "execution_count": null,
      "outputs": [
        {
          "output_type": "stream",
          "name": "stdout",
          "text": [
            "{'no way': 'kalibela', 'coming': 'bainta', 'leaving': 'fonde', 'sleeping': 'ranginda'}\n"
          ]
        }
      ]
    },
    {
      "cell_type": "code",
      "source": [
        "#copy\n",
        "dictionary=oxford.copy()\n",
        "print( dictionary )"
      ],
      "metadata": {
        "colab": {
          "base_uri": "https://localhost:8080/"
        },
        "id": "9Ftbt8kYeLIA",
        "outputId": "e497709d-249a-4d91-977d-15f521ff4b2d"
      },
      "execution_count": null,
      "outputs": [
        {
          "output_type": "stream",
          "name": "stdout",
          "text": [
            "{'no way': 'kalibela', 'coming': 'bainta', 'leaving': 'fonde', 'sleeping': 'ranginda'}\n"
          ]
        }
      ]
    },
    {
      "cell_type": "code",
      "source": [
        "#remove\n",
        "oxford.pop(\"no way\")\n",
        "print (oxford)\n"
      ],
      "metadata": {
        "colab": {
          "base_uri": "https://localhost:8080/"
        },
        "id": "xcfshoYVeyuR",
        "outputId": "f63a506d-fe71-4047-cb47-04f58931bd86"
      },
      "execution_count": null,
      "outputs": [
        {
          "output_type": "stream",
          "name": "stdout",
          "text": [
            "{'coming': 'bainta', 'leaving': 'fonde', 'sleeping': 'ranginda'}\n"
          ]
        }
      ]
    },
    {
      "cell_type": "code",
      "source": [
        "#delete\n",
        "del oxford [\"leaving\"]\n",
        "print(oxford)"
      ],
      "metadata": {
        "colab": {
          "base_uri": "https://localhost:8080/"
        },
        "id": "yLgSRewgfxrO",
        "outputId": "e79ae74a-4f84-4597-95fc-03a3de3e7e60"
      },
      "execution_count": null,
      "outputs": [
        {
          "output_type": "stream",
          "name": "stdout",
          "text": [
            "{'sleeping': 'ranginda'}\n"
          ]
        }
      ]
    },
    {
      "cell_type": "code",
      "source": [
        "#string\n",
        "name=\"Zohair\"\n",
        "print(name)\n"
      ],
      "metadata": {
        "colab": {
          "base_uri": "https://localhost:8080/"
        },
        "id": "6zM3aBZEhDm5",
        "outputId": "8f3ea286-0cf3-4c57-a1b4-d609fd6e3062"
      },
      "execution_count": null,
      "outputs": [
        {
          "output_type": "stream",
          "name": "stdout",
          "text": [
            "Zohair\n"
          ]
        }
      ]
    },
    {
      "cell_type": "code",
      "source": [
        "#index value in string\n",
        "print (name[0])"
      ],
      "metadata": {
        "colab": {
          "base_uri": "https://localhost:8080/"
        },
        "id": "CE2LirZphaTE",
        "outputId": "7f230cde-d0ad-44d0-c117-15fee308198f"
      },
      "execution_count": null,
      "outputs": [
        {
          "output_type": "stream",
          "name": "stdout",
          "text": [
            "Z\n"
          ]
        }
      ]
    },
    {
      "cell_type": "code",
      "source": [
        "#slicing (inside the index value)\n",
        "print(name[1:5])"
      ],
      "metadata": {
        "colab": {
          "base_uri": "https://localhost:8080/"
        },
        "id": "dRFdzPQRhy4r",
        "outputId": "8f5216fa-0831-475a-d2de-7493d17131cb"
      },
      "execution_count": null,
      "outputs": [
        {
          "output_type": "stream",
          "name": "stdout",
          "text": [
            "ohai\n"
          ]
        }
      ]
    },
    {
      "cell_type": "code",
      "source": [
        "#strip method to remore extra spaces in 1st and last\n",
        "a=\"    hi   \"\n",
        "print (a)"
      ],
      "metadata": {
        "colab": {
          "base_uri": "https://localhost:8080/"
        },
        "id": "5JDwKg2gj677",
        "outputId": "a14f9c4a-4c94-44b9-92fb-5e355c403948"
      },
      "execution_count": null,
      "outputs": [
        {
          "output_type": "stream",
          "name": "stdout",
          "text": [
            "    hi   \n"
          ]
        }
      ]
    },
    {
      "cell_type": "code",
      "source": [
        "print(a.strip())"
      ],
      "metadata": {
        "colab": {
          "base_uri": "https://localhost:8080/"
        },
        "id": "KDieklgikU0y",
        "outputId": "4ad6b232-42b1-4e7b-caec-a3185fd1a769"
      },
      "execution_count": null,
      "outputs": [
        {
          "output_type": "stream",
          "name": "stdout",
          "text": [
            "hi\n"
          ]
        }
      ]
    },
    {
      "cell_type": "code",
      "source": [
        "#convert to lowercase\n",
        "\n",
        "name=\"ZOHAIR\"\n",
        "print(name.lower())"
      ],
      "metadata": {
        "colab": {
          "base_uri": "https://localhost:8080/"
        },
        "id": "SGTI_dPfkHVX",
        "outputId": "e6efcff6-fa9d-4707-876b-9c1a38a08808"
      },
      "execution_count": null,
      "outputs": [
        {
          "output_type": "stream",
          "name": "stdout",
          "text": [
            "zohair\n"
          ]
        }
      ]
    },
    {
      "cell_type": "code",
      "source": [
        "#convert to uppercase\n",
        "name=\"rohaan\"\n",
        "print(name.upper())"
      ],
      "metadata": {
        "colab": {
          "base_uri": "https://localhost:8080/"
        },
        "id": "-k9DAZyLlSt6",
        "outputId": "1b43edbd-5f47-4209-ca90-f89f821cc5bb"
      },
      "execution_count": null,
      "outputs": [
        {
          "output_type": "stream",
          "name": "stdout",
          "text": [
            "ROHAAN\n"
          ]
        }
      ]
    },
    {
      "cell_type": "code",
      "source": [
        "#swap case\n",
        "name =\"ROHaaN\"\n",
        "print(name.swapcase())"
      ],
      "metadata": {
        "colab": {
          "base_uri": "https://localhost:8080/"
        },
        "id": "dptcM3Zxln-F",
        "outputId": "91bfce74-b3fe-466b-caa7-fb95b1ba5b6d"
      },
      "execution_count": null,
      "outputs": [
        {
          "output_type": "stream",
          "name": "stdout",
          "text": [
            "rohAAn\n"
          ]
        }
      ]
    },
    {
      "cell_type": "code",
      "source": [
        "#replace a charecter\n",
        "name=\"rohaan zohair\"\n",
        "print(name.replace(\"zohair\",\"ali\"))\n"
      ],
      "metadata": {
        "colab": {
          "base_uri": "https://localhost:8080/"
        },
        "id": "UOOcJm9WsLcD",
        "outputId": "7b0e6a4d-47ef-4cfb-e2af-f0cf6254b0d7"
      },
      "execution_count": null,
      "outputs": [
        {
          "output_type": "stream",
          "name": "stdout",
          "text": [
            "rohaan ali\n"
          ]
        }
      ]
    },
    {
      "cell_type": "code",
      "source": [
        "#endswidth\n",
        "contry=\" indian, india\"\n",
        "\n",
        "result= contry.endswith(\"indian\")\n",
        "print (result)"
      ],
      "metadata": {
        "colab": {
          "base_uri": "https://localhost:8080/"
        },
        "id": "sKY1kJoHs8w3",
        "outputId": "d01cee3e-19ba-4185-fae5-fac987d3deb7"
      },
      "execution_count": null,
      "outputs": [
        {
          "output_type": "stream",
          "name": "stdout",
          "text": [
            "False\n"
          ]
        }
      ]
    },
    {
      "cell_type": "code",
      "source": [
        "#startswith\n",
        "contry=\" indian, india\"\n",
        "\n",
        "result= contry.startswith(\" indian\")\n",
        "print (result)"
      ],
      "metadata": {
        "colab": {
          "base_uri": "https://localhost:8080/"
        },
        "id": "kJ2zpwdHt9Gf",
        "outputId": "87003cd9-f271-49e3-af13-0eee43025f93"
      },
      "execution_count": null,
      "outputs": [
        {
          "output_type": "stream",
          "name": "stdout",
          "text": [
            "True\n"
          ]
        }
      ]
    }
  ]
}